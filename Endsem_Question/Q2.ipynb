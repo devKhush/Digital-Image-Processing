{
 "cells": [
  {
   "cell_type": "code",
   "execution_count": 7,
   "metadata": {},
   "outputs": [],
   "source": [
    "import numpy as np\n",
    "import cv2\n",
    "import matplotlib.pyplot as plt \n",
    "import matplotlib as mpl\n",
    "mpl.rcParams['figure.facecolor'] = 'white'"
   ]
  },
  {
   "cell_type": "code",
   "execution_count": 8,
   "metadata": {},
   "outputs": [
    {
     "data": {
      "image/png": "[encoded data removed]",
      "text/plain": [
       "<Figure size 432x288 with 1 Axes>"
      ]
     },
     "metadata": {},
     "output_type": "display_data"
    }
   ],
   "source": [
    "img = cv2.imread('final_test.tiff', 0)\n",
    "plt.imshow(img, cmap='gray');\n",
    "plt.imsave('final_test.png', img, cmap='gray')"
   ]
  },
  {
   "attachments": {},
   "cell_type": "markdown",
   "metadata": {},
   "source": [
    "# Custom Class for First Order Derivative Prewitt filter"
   ]
  },
  {
   "cell_type": "code",
   "execution_count": 9,
   "metadata": {},
   "outputs": [],
   "source": [
    "class FirstOrderDerivative_PrewittFilter(object):\n",
    "    ''' \n",
    "    Class for First Order Derivative Filter \n",
    "    Type of First Order Derivative Filter used: Prewitt's Operator\n",
    "    '''\n",
    "    def __init__(self) -> None:\n",
    "        ''' Prewitt's Gradient Filters '''\n",
    "        self.Gx = np.array([[+1, +1, +1], \n",
    "                            [ 0,  0,  0],\n",
    "                            [-1, -1, -1]])\n",
    "        self.Gy = np.array([[-1,  0,  +1], \n",
    "                            [-1,  0,  +1],\n",
    "                            [-1,  0,  +1]])\n",
    "    \n",
    "    def sharpen(self, image: np.ndarray) -> np.ndarray:\n",
    "        '''\n",
    "        Sharpen the Image using First Order Derivative Filter.\n",
    "        Using a Window of size 3x3, as given by filter mask. \n",
    "        '''\n",
    "        prewitt_x = np.zeros(shape=image.shape)\n",
    "        prewitt_y = np.zeros(shape=image.shape)\n",
    "        \n",
    "        for i in range(image.shape[0]):\n",
    "            for j in range(image.shape[1]):\n",
    "                row_start, row_end = max(0, i - 1), i + 2\n",
    "                col_start, col_end = max(0, j - 1), j + 2 \n",
    "                \n",
    "                GX = self.Gx[int(i==0) : 3 - int(i==image.shape[0]-1), int(j==0) : 3 - int(j==image.shape[1]-1)]\n",
    "                GY = self.Gy[int(i==0) : 3 - int(i==image.shape[0]-1), int(j==0) : 3 - int(j==image.shape[1]-1)]\n",
    "                \n",
    "                prewitt_x[i, j] = np.sum(image[row_start:row_end, col_start:col_end] * GX)\n",
    "                prewitt_y[i, j] = np.sum(image[row_start:row_end, col_start:col_end] * GY)\n",
    "        \n",
    "        return prewitt_x, prewitt_y, np.abs(prewitt_x) + np.abs(prewitt_y)"
   ]
  },
  {
   "attachments": {},
   "cell_type": "markdown",
   "metadata": {},
   "source": [
    "# 1st-Order Derivative Filter (using Prewitt's Gradient)\n"
   ]
  },
  {
   "attachments": {},
   "cell_type": "markdown",
   "metadata": {},
   "source": [
    "X-Gradient, Y-Gradients and Edge Mask\n"
   ]
  },
  {
   "cell_type": "code",
   "execution_count": 10,
   "metadata": {},
   "outputs": [],
   "source": [
    "prewitt_X, prewitt_Y, prewitt_edge_mask = FirstOrderDerivative_PrewittFilter().sharpen(img)\n",
    "\n",
    "plt.imsave('prewitt_X.png', prewitt_X, cmap='gray')\n",
    "plt.imsave('prewitt_Y.png', prewitt_Y, cmap='gray')\n",
    "plt.imsave('prewitt_edge_mask.png', prewitt_edge_mask, cmap='gray')"
   ]
  },
  {
   "attachments": {},
   "cell_type": "markdown",
   "metadata": {},
   "source": [
    "Sharp Image\n"
   ]
  },
  {
   "cell_type": "code",
   "execution_count": null,
   "metadata": {},
   "outputs": [],
   "source": [
    "prewitt_sharp_img = img + prewitt_edge_mask/25\n",
    "plt.imsave('prewitt_sharp_image.png', prewitt_sharp_img,     cmap='gray')"
   ]
  },
  {
   "attachments": {},
   "cell_type": "markdown",
   "metadata": {},
   "source": [
    "# 1st Order Prewitt using Correlation function"
   ]
  },
  {
   "cell_type": "code",
   "execution_count": null,
   "metadata": {},
   "outputs": [],
   "source": [
    "Gx = np.array([ [+1, +1, +1], \n",
    "                [ 0,  0,  0],\n",
    "                [-1, -1, -1]])\n",
    "Gy = np.array([ [-1,  0,  +1], \n",
    "                [-1,  0,  +1],\n",
    "                [-1,  0,  +1]])\n",
    "\n",
    "\n",
    "prewitt_X_cv = cv2.filter2D(src=img, ddepth=-1, kernel=Gx)\n",
    "prewitt_Y_cv = cv2.filter2D(src=img, ddepth=-1, kernel=Gy)\n",
    "prewitt_edge_mask_cv = np.abs(prewitt_X_cv) + np.abs(prewitt_Y_cv)\n",
    "prewitt_sharp_img_cv = img + prewitt_edge_mask_cv/25\n",
    "\n",
    "plt.imsave('prewitt_X_cv.png', prewitt_X_cv, cmap='gray')\n",
    "plt.imsave('prewitt_Y_cv.png', prewitt_Y_cv, cmap='gray')\n",
    "plt.imsave('prewitt_edge_mask_cv.png', prewitt_edge_mask_cv, cmap='gray')\n",
    "plt.imsave('prewitt_sharp_image_cv.png', prewitt_sharp_img_cv, cmap='gray')"
   ]
  }
 ],
 "metadata": {
  "kernelspec": {
   "display_name": "Python 3",
   "language": "python",
   "name": "python3"
  },
  "language_info": {
   "codemirror_mode": {
    "name": "ipython",
    "version": 3
   },
   "file_extension": ".py",
   "mimetype": "text/x-python",
   "name": "python",
   "nbconvert_exporter": "python",
   "pygments_lexer": "ipython3",
   "version": "3.10.1"
  },
  "orig_nbformat": 4,
  "vscode": {
   "interpreter": {
    "hash": "4f91e35da70fd7a53ceee9ab287ed040d81eb2ccfac088551011048c25bbd6e1"
   }
  }
 },
 "nbformat": 4,
 "nbformat_minor": 2
}
