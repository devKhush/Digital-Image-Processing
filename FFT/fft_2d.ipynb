{
 "cells": [
  {
   "cell_type": "code",
   "execution_count": 1,
   "metadata": {},
   "outputs": [],
   "source": [
    "import numpy as np\n",
    "import matplotlib.pyplot as plt\n",
    "import warnings\n",
    "warnings.filterwarnings('ignore')"
   ]
  },
  {
   "cell_type": "code",
   "execution_count": 2,
   "metadata": {},
   "outputs": [],
   "source": [
    "# implement dft 2d\n",
    "def dft_2d(x):\n",
    "    N = x.shape[0]\n",
    "    M = x.shape[1]\n",
    "    X = np.zeros((N, M), dtype=np.complex128)\n",
    "    \n",
    "    for u in range(N):\n",
    "        for v in range(M):\n",
    "            for m in range(M):\n",
    "                for n in range(N):\n",
    "                    X[u, v] += x[n, m] * np.exp(-2j * np.pi * (u * n / N + v * m / M))\n",
    "    return X"
   ]
  },
  {
   "cell_type": "code",
   "execution_count": 3,
   "metadata": {},
   "outputs": [
    {
     "data": {
      "image/png": "[encoded data removed]",
      "text/plain": [
       "<Figure size 432x288 with 1 Axes>"
      ]
     },
     "metadata": {
      "needs_background": "light"
     },
     "output_type": "display_data"
    }
   ],
   "source": [
    "x = np.arange(-500, 501, 1)\n",
    "X, Y = np.meshgrid(x, x)\n",
    "wavelength = 200\n",
    "grating = np.sin(2 * np.pi * X / wavelength)\n",
    "plt.set_cmap(\"gray\")\n",
    "plt.imshow(grating)\n",
    "plt.show()"
   ]
  },
  {
   "cell_type": "code",
   "execution_count": null,
   "metadata": {},
   "outputs": [],
   "source": [
    "# implement adaptive filter\n",
    "def adaptive_filter(x, y, mu, N):\n",
    "    M = x.shape[0]\n",
    "    X = np.zeros((M, N), dtype=np.complex128)\n",
    "    W = np.zeros((M, N), dtype=np.complex128)\n",
    "    for m in range(M):\n",
    "        for n in range(N):\n",
    "            X[m, n] = x[m, n] * np.exp(-2j * np.pi * n * m / M)\n",
    "    for n in range(N):\n",
    "        for m in range(M):\n",
    "            W[m, n] = np.conj(X[m, n]) / (np.abs(X[m, n]) ** 2)\n",
    "    Y = np.zeros((M, N), dtype=np.complex128)\n",
    "    for m in range(M):\n",
    "        for n in range(N):\n",
    "            Y[m, n] = y[m, n] * np.exp(-2j * np.pi * n * m / M)\n",
    "    Z = np.zeros((M, N), dtype=np.complex128)\n",
    "    for m in range(M):\n",
    "        for n in range(N):\n",
    "            Z[m, n] = W[m, n] * Y[m, n]\n",
    "    z = np.zeros(M, dtype=np.complex128)\n",
    "    for m in range(M):\n",
    "        for n in range(N):\n",
    "            z[m] += Z[m, n] * np.exp(2j * np.pi * n * m / M)\n",
    "    return z"
   ]
  }
 ],
 "metadata": {
  "kernelspec": {
   "display_name": "Python 3.10.1 64-bit",
   "language": "python",
   "name": "python3"
  },
  "language_info": {
   "codemirror_mode": {
    "name": "ipython",
    "version": 3
   },
   "file_extension": ".py",
   "mimetype": "text/x-python",
   "name": "python",
   "nbconvert_exporter": "python",
   "pygments_lexer": "ipython3",
   "version": "3.10.1"
  },
  "orig_nbformat": 4,
  "vscode": {
   "interpreter": {
    "hash": "4f91e35da70fd7a53ceee9ab287ed040d81eb2ccfac088551011048c25bbd6e1"
   }
  }
 },
 "nbformat": 4,
 "nbformat_minor": 2
}
