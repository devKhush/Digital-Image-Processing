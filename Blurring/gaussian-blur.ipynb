{
 "cells": [
  {
   "cell_type": "code",
   "execution_count": 1,
   "metadata": {},
   "outputs": [],
   "source": [
    "import numpy as np\n",
    "import matplotlib.pyplot as plt\n",
    "import cv2"
   ]
  },
  {
   "cell_type": "code",
   "execution_count": 3,
   "metadata": {},
   "outputs": [],
   "source": [
    "img = cv2.imread('../images/table.png', 0)"
   ]
  },
  {
   "cell_type": "markdown",
   "metadata": {},
   "source": [
    "# Remove noise"
   ]
  },
  {
   "cell_type": "code",
   "execution_count": 7,
   "metadata": {},
   "outputs": [],
   "source": [
    "# implement Gaussian blur\n",
    "def gaussian_blur(img, kernel_size):\n",
    "    kernel = np.zeros((kernel_size, kernel_size))\n",
    "    sigma = kernel_size / 2\n",
    "    center = kernel_size // 2 \n",
    "    sum_val = 0\n",
    "    for i in range(kernel_size):\n",
    "        for j in range(kernel_size):\n",
    "            x = i - center\n",
    "            y = j - center\n",
    "            kernel[i, j] = np.exp(-(x**2 + y**2) / (2 * sigma**2))\n",
    "            sum_val += kernel[i, j]\n",
    "    kernel /= sum_val\n",
    "    output = cv2.filter2D(img, -1, kernel)\n",
    "    return output, kernel"
   ]
  },
  {
   "cell_type": "code",
   "execution_count": 8,
   "metadata": {},
   "outputs": [],
   "source": [
    "blur_img, kernel = gaussian_blur(img, 5)"
   ]
  },
  {
   "cell_type": "code",
   "execution_count": 11,
   "metadata": {},
   "outputs": [
    {
     "data": {
      "text/plain": [
       "array([[0.0178422 , 0.03061734, 0.03665562, 0.03061734, 0.0178422 ],\n",
       "       [0.03061734, 0.05253957, 0.06290129, 0.05253957, 0.03061734],\n",
       "       [0.03665562, 0.06290129, 0.07530652, 0.06290129, 0.03665562],\n",
       "       [0.03061734, 0.05253957, 0.06290129, 0.05253957, 0.03061734],\n",
       "       [0.0178422 , 0.03061734, 0.03665562, 0.03061734, 0.0178422 ]])"
      ]
     },
     "execution_count": 11,
     "metadata": {},
     "output_type": "execute_result"
    }
   ],
   "source": [
    "kernel"
   ]
  },
  {
   "cell_type": "code",
   "execution_count": 14,
   "metadata": {},
   "outputs": [],
   "source": [
    "plt.imsave('gaussian-blur.png', blur_img, cmap='gray')"
   ]
  },
  {
   "cell_type": "markdown",
   "metadata": {},
   "source": [
    "### Add gaussian noise"
   ]
  },
  {
   "cell_type": "code",
   "execution_count": 15,
   "metadata": {},
   "outputs": [],
   "source": [
    "# add gaussian noise\n",
    "def add_gaussian_noise(img, mean, std):\n",
    "    noise = np.random.normal(mean, std, img.shape)\n",
    "    output = img + noise\n",
    "    output = np.clip(output, 0, 255)\n",
    "    output = output.astype(np.uint8)\n",
    "    return output"
   ]
  },
  {
   "cell_type": "code",
   "execution_count": 18,
   "metadata": {},
   "outputs": [],
   "source": [
    "noisy_img = add_gaussian_noise(img, 0, 30)\n",
    "plt.imsave('gaussian-noise.png', noisy_img, cmap='gray')"
   ]
  }
 ],
 "metadata": {
  "kernelspec": {
   "display_name": "Python 3.10.1 64-bit",
   "language": "python",
   "name": "python3"
  },
  "language_info": {
   "codemirror_mode": {
    "name": "ipython",
    "version": 3
   },
   "file_extension": ".py",
   "mimetype": "text/x-python",
   "name": "python",
   "nbconvert_exporter": "python",
   "pygments_lexer": "ipython3",
   "version": "3.10.1"
  },
  "orig_nbformat": 4,
  "vscode": {
   "interpreter": {
    "hash": "4f91e35da70fd7a53ceee9ab287ed040d81eb2ccfac088551011048c25bbd6e1"
   }
  }
 },
 "nbformat": 4,
 "nbformat_minor": 2
}
