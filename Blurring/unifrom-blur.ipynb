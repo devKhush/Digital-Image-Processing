{
 "cells": [
  {
   "cell_type": "code",
   "execution_count": 11,
   "metadata": {},
   "outputs": [],
   "source": [
    "import numpy as np\n",
    "import matplotlib.pyplot as plt\n",
    "import cv2"
   ]
  },
  {
   "cell_type": "code",
   "execution_count": 12,
   "metadata": {},
   "outputs": [],
   "source": [
    "img = cv2.imread('../images/table.png', 0)"
   ]
  },
  {
   "cell_type": "code",
   "execution_count": 13,
   "metadata": {},
   "outputs": [],
   "source": [
    "# implement uniform blur\n",
    "def uniform_blur(img, kernel_size):\n",
    "    M = img.shape[0]\n",
    "    N = img.shape[1]\n",
    "    kernel_height = kernel_size[0]\n",
    "    kernel_width = kernel_size[1]   \n",
    "    result = np.zeros((M, N))\n",
    "    kernel_value = 1 / (kernel_height * kernel_width)\n",
    "    \n",
    "    for i in range(M):\n",
    "        for j in range(N):\n",
    "                result[i, j] = np.sum(img[i:i + kernel_height, j:j + kernel_width]) * kernel_value\n",
    "    return result"
   ]
  },
  {
   "cell_type": "code",
   "execution_count": 14,
   "metadata": {},
   "outputs": [],
   "source": [
    "blur_img = uniform_blur(img, (3, 3))"
   ]
  },
  {
   "cell_type": "code",
   "execution_count": 15,
   "metadata": {},
   "outputs": [],
   "source": [
    "plt.imsave('unifrom-blur.png', blur_img, cmap='gray')"
   ]
  },
  {
   "cell_type": "markdown",
   "metadata": {},
   "source": [
    "# Add uniform noise"
   ]
  },
  {
   "cell_type": "code",
   "execution_count": 16,
   "metadata": {},
   "outputs": [],
   "source": [
    "# implement uniform noise\n",
    "def uniform_noise(img, noise_level):\n",
    "    M = img.shape[0]\n",
    "    N = img.shape[1]\n",
    "    result = np.zeros((M, N))\n",
    "    noise = np.random.uniform(-noise_level, noise_level, (M, N))\n",
    "    result = img + noise\n",
    "    result[result > 255] = 255\n",
    "    result[result < 0] = 0\n",
    "    return result"
   ]
  },
  {
   "cell_type": "code",
   "execution_count": 17,
   "metadata": {},
   "outputs": [],
   "source": [
    "noisy_img = uniform_noise(img, 100)\n",
    "plt.imsave('uniform-noise.png', noisy_img, cmap='gray')"
   ]
  }
 ],
 "metadata": {
  "kernelspec": {
   "display_name": "Python 3.10.1 64-bit",
   "language": "python",
   "name": "python3"
  },
  "language_info": {
   "codemirror_mode": {
    "name": "ipython",
    "version": 3
   },
   "file_extension": ".py",
   "mimetype": "text/x-python",
   "name": "python",
   "nbconvert_exporter": "python",
   "pygments_lexer": "ipython3",
   "version": "3.10.1"
  },
  "orig_nbformat": 4,
  "vscode": {
   "interpreter": {
    "hash": "4f91e35da70fd7a53ceee9ab287ed040d81eb2ccfac088551011048c25bbd6e1"
   }
  }
 },
 "nbformat": 4,
 "nbformat_minor": 2
}
