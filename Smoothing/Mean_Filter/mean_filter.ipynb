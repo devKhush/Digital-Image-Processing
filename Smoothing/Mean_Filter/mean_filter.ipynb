{
 "cells": [
  {
   "cell_type": "code",
   "execution_count": 68,
   "metadata": {},
   "outputs": [],
   "source": [
    "import cv2\n",
    "import numpy as np\n",
    "import matplotlib.pyplot as plt"
   ]
  },
  {
   "cell_type": "markdown",
   "metadata": {},
   "source": [
    "### Loading Image"
   ]
  },
  {
   "cell_type": "code",
   "execution_count": 69,
   "metadata": {},
   "outputs": [],
   "source": [
    "img = cv2.imread('../ruler_img.tiff', 0)"
   ]
  },
  {
   "cell_type": "code",
   "execution_count": 70,
   "metadata": {},
   "outputs": [
    {
     "data": {
      "image/png": "[encoded data removed]",
      "text/plain": [
       "<Figure size 432x288 with 1 Axes>"
      ]
     },
     "metadata": {
      "needs_background": "light"
     },
     "output_type": "display_data"
    }
   ],
   "source": [
    "plt.imsave('ruler.png', img, cmap='gray')\n",
    "plt.imshow(img, cmap='gray');"
   ]
  },
  {
   "cell_type": "markdown",
   "metadata": {},
   "source": [
    "### Class for Mean Filter"
   ]
  },
  {
   "cell_type": "code",
   "execution_count": 71,
   "metadata": {},
   "outputs": [],
   "source": [
    "class MeanFilter(object):\n",
    "    ''' Class for Mean Filter '''\n",
    "    \n",
    "    def __init__(self, n) -> None:\n",
    "        ''' Initialize the size of Mean filter as nxn '''\n",
    "        self.n = n\n",
    "    \n",
    "    def filter(self, image:np.ndarray) -> np.ndarray:\n",
    "        ''' Smooth the Image using Mean Filter. Uses a Window of size nxn. '''\n",
    "        smooth_img = image.copy()\n",
    "        \n",
    "        for i in range(image.shape[0]):\n",
    "            for j in range(image.shape[1]):\n",
    "                row_start, row_end = max(0, i - (self.n//2)), i + self.n//2 + 1\n",
    "                col_start, col_end = max(0, j - (self.n//2)), j + self.n//2 + 1\n",
    "\n",
    "                smooth_img[i,j] = np.sum(image[row_start:row_end, col_start:col_end]) / (self.n**2)        \n",
    "                # smooth_img[i,j,0] = np.sum(image[row_start:row_end, col_start:col_end,0]) / (self.n**2)        \n",
    "                # smooth_img[i,j,1] = np.sum(image[row_start:row_end, col_start:col_end,1]) / (self.n**2)        \n",
    "                # smooth_img[i,j,2] = np.sum(image[row_start:row_end, col_start:col_end,2]) / (self.n**2)        \n",
    "        return smooth_img"
   ]
  },
  {
   "cell_type": "markdown",
   "metadata": {},
   "source": [
    "### Implementing a 3x3 Mean Filter"
   ]
  },
  {
   "cell_type": "code",
   "execution_count": 72,
   "metadata": {},
   "outputs": [],
   "source": [
    "filter_3 = MeanFilter(3)\n",
    "smooth_3 = filter_3.filter(img)\n",
    "    \n",
    "plt.imsave('smooth_ruler_mean_filter_3x3.png', smooth_3, cmap='gray')"
   ]
  },
  {
   "cell_type": "code",
   "execution_count": 73,
   "metadata": {},
   "outputs": [
    {
     "name": "stdout",
     "output_type": "stream",
     "text": [
      "3x3 Mean Kernel : \n",
      " [[0.11111111 0.11111111 0.11111111]\n",
      " [0.11111111 0.11111111 0.11111111]\n",
      " [0.11111111 0.11111111 0.11111111]]\n"
     ]
    }
   ],
   "source": [
    "kernel_3 = (1/9) * np.ones(shape=(3,3))\n",
    "print('3x3 Mean Kernel : \\n', kernel_3)\n",
    "\n",
    "smooth_3 = cv2.filter2D(src=img, ddepth=-1, kernel=kernel_3) \n",
    "plt.imsave('smooth_ruler_mean_filter_3x3_kernel.png', smooth_3, cmap='gray')"
   ]
  },
  {
   "cell_type": "markdown",
   "metadata": {},
   "source": [
    "### Implementing a 5x5 Mean Filter"
   ]
  },
  {
   "cell_type": "code",
   "execution_count": 74,
   "metadata": {},
   "outputs": [],
   "source": [
    "filter_5 = MeanFilter(5)\n",
    "smooth_5 = filter_5.filter(img)\n",
    "\n",
    "plt.imsave('smooth_ruler_mean_filter_5x5.png', smooth_5, cmap='gray')"
   ]
  },
  {
   "cell_type": "code",
   "execution_count": 75,
   "metadata": {},
   "outputs": [
    {
     "name": "stdout",
     "output_type": "stream",
     "text": [
      "5x5 Mean Kernel : \n",
      " [[0.04 0.04 0.04 0.04 0.04]\n",
      " [0.04 0.04 0.04 0.04 0.04]\n",
      " [0.04 0.04 0.04 0.04 0.04]\n",
      " [0.04 0.04 0.04 0.04 0.04]\n",
      " [0.04 0.04 0.04 0.04 0.04]]\n"
     ]
    }
   ],
   "source": [
    "kernel_5 = (1/25) * np.ones(shape=(5,5))\n",
    "print('5x5 Mean Kernel : \\n', kernel_5)\n",
    "\n",
    "smooth_5 = cv2.filter2D(src=img, ddepth=-1, kernel=kernel_5) \n",
    "plt.imsave('smooth_ruler_mean_filter_5x5_kernel.png', smooth_5, cmap='gray')"
   ]
  },
  {
   "cell_type": "markdown",
   "metadata": {},
   "source": [
    "### Implementation using Inbuilt Functions"
   ]
  },
  {
   "cell_type": "markdown",
   "metadata": {},
   "source": [
    "#### 3x3 Mean Filter"
   ]
  },
  {
   "cell_type": "code",
   "execution_count": 76,
   "metadata": {},
   "outputs": [],
   "source": [
    "smooth_3_cv = cv2.blur(src=img, ksize=(3,3))\n",
    "\n",
    "plt.imsave('smooth_ruler_mean_filter_3x3_cv.png', smooth_3_cv, cmap='gray')"
   ]
  },
  {
   "cell_type": "markdown",
   "metadata": {},
   "source": [
    "#### 5x5 Mean filter"
   ]
  },
  {
   "cell_type": "code",
   "execution_count": 77,
   "metadata": {},
   "outputs": [],
   "source": [
    "smooth_5_cv = cv2.blur(src=img, ksize=(5,5))\n",
    "\n",
    "plt.imsave('smooth_ruler_mean_filter_5x5_cv.png', smooth_5_cv, cmap='gray')"
   ]
  }
 ],
 "metadata": {
  "kernelspec": {
   "display_name": "Python 3.10.1 64-bit",
   "language": "python",
   "name": "python3"
  },
  "language_info": {
   "codemirror_mode": {
    "name": "ipython",
    "version": 3
   },
   "file_extension": ".py",
   "mimetype": "text/x-python",
   "name": "python",
   "nbconvert_exporter": "python",
   "pygments_lexer": "ipython3",
   "version": "3.10.1"
  },
  "orig_nbformat": 4,
  "vscode": {
   "interpreter": {
    "hash": "4f91e35da70fd7a53ceee9ab287ed040d81eb2ccfac088551011048c25bbd6e1"
   }
  }
 },
 "nbformat": 4,
 "nbformat_minor": 2
}
